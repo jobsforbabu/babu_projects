{
  "nbformat": 4,
  "nbformat_minor": 0,
  "metadata": {
    "kernelspec": {
      "display_name": "Python 3",
      "language": "python",
      "name": "python3"
    },
    "language_info": {
      "codemirror_mode": {
        "name": "ipython",
        "version": 3
      },
      "file_extension": ".py",
      "mimetype": "text/x-python",
      "name": "python",
      "nbconvert_exporter": "python",
      "pygments_lexer": "ipython3",
      "version": "3.7.4"
    },
    "colab": {
      "name": "Assignment - Introduction to Lists.ipynb",
      "provenance": [],
      "collapsed_sections": [],
      "include_colab_link": true
    }
  },
  "cells": [
    {
      "cell_type": "markdown",
      "metadata": {
        "id": "view-in-github",
        "colab_type": "text"
      },
      "source": [
        "<a href=\"https://colab.research.google.com/github/jobsforbabu/babu_projects/blob/main/Introduction_to_Lists.ipynb\" target=\"_parent\"><img src=\"https://colab.research.google.com/assets/colab-badge.svg\" alt=\"Open In Colab\"/></a>"
      ]
    },
    {
      "cell_type": "markdown",
      "metadata": {
        "id": "t4O7WDUFjkFq"
      },
      "source": [
        "## <u>While doing this assignment only use those concepts which have been taught till now</u>"
      ]
    },
    {
      "cell_type": "markdown",
      "metadata": {
        "id": "KB9ZI2xAjkF6"
      },
      "source": [
        "## <u>Problem 1</u>\n",
        "\n",
        "A list contains the average daily temperature(in degree Celsius) of a city over a particular week. Write a Python code to swap the highest and the lowest temperatures"
      ]
    },
    {
      "cell_type": "code",
      "metadata": {
        "id": "O3ZtUcxsjkF7"
      },
      "source": [
        "# A list containing average daily temperature over a week \n",
        "temperatures = [34, 40, 29, 33, 42, 37, 39 ]\n",
        "\n",
        "# The expected output \n",
        "# output_temperatures = [34, 40, 42, 33, 29, 37, 39]"
      ],
      "execution_count": 1,
      "outputs": []
    },
    {
      "cell_type": "code",
      "metadata": {
        "id": "HRFHv7OXjkGR"
      },
      "source": [
        "# Store the highest temperature\n",
        "max_temp = max(temperatures)\n",
        "\n",
        "# Index of the element with the highest temperature\n",
        "max_temp_index = temperatures.index(max_temp)"
      ],
      "execution_count": 3,
      "outputs": []
    },
    {
      "cell_type": "code",
      "metadata": {
        "id": "TlYIooXHVLhR",
        "outputId": "1e25921c-a5eb-4f40-a6e2-dfe6a1c27cf7",
        "colab": {
          "base_uri": "https://localhost:8080/"
        }
      },
      "source": [
        "print(max_temp)\n",
        "print(max_temp_index)"
      ],
      "execution_count": 4,
      "outputs": [
        {
          "output_type": "stream",
          "text": [
            "42\n",
            "4\n"
          ],
          "name": "stdout"
        }
      ]
    },
    {
      "cell_type": "code",
      "metadata": {
        "id": "8lsfVKbcjkGW"
      },
      "source": [
        "# Store the lowest temperature \n",
        "min_temp = min(temperatures)\n",
        "\n",
        "# Index of the element with the lowest temperature\n",
        "min_temp_index = temperatures.index(min_temp)"
      ],
      "execution_count": 5,
      "outputs": []
    },
    {
      "cell_type": "code",
      "metadata": {
        "id": "6lk78vSmVex6",
        "outputId": "20fd5575-794e-4f7c-fbac-38bd795eb45e",
        "colab": {
          "base_uri": "https://localhost:8080/"
        }
      },
      "source": [
        "print(min_temp)\n",
        "print(min_temp_index)"
      ],
      "execution_count": 6,
      "outputs": [
        {
          "output_type": "stream",
          "text": [
            "29\n",
            "2\n"
          ],
          "name": "stdout"
        }
      ]
    },
    {
      "cell_type": "code",
      "metadata": {
        "id": "W8UkX2IHjkGc"
      },
      "source": [
        "# Swap the highest and the lowest temperatures\n",
        "\n",
        "temperatures[4] = 29\n",
        "temperatures[2] = 42"
      ],
      "execution_count": 7,
      "outputs": []
    },
    {
      "cell_type": "code",
      "metadata": {
        "id": "2UpeOQ7qjkGg",
        "outputId": "a6b87846-1bae-4e42-9a6c-2fd4eee72a31",
        "colab": {
          "base_uri": "https://localhost:8080/"
        }
      },
      "source": [
        "# Print the output list\n",
        "output_temperatures = temperatures\n",
        "print(output_temperatures)"
      ],
      "execution_count": 14,
      "outputs": [
        {
          "output_type": "stream",
          "text": [
            "[34, 40, 42, 33, 29, 37, 39]\n"
          ],
          "name": "stdout"
        }
      ]
    },
    {
      "cell_type": "markdown",
      "metadata": {
        "id": "zxqe73yrjkGi"
      },
      "source": [
        "\n",
        "## <u>Problem 2 </u>\n",
        "\n",
        "### Measures of Averages\n",
        "\n",
        "* Mean of a group is defined as the sum of the elements in the group divided by the number of elements in the group.\n",
        "* Median is the middle number in a <b>sorted</b>, ascending or descending, list of numbers. If the list has $N$ numbers where $N$ is odd, then median is the element in the middle i.e, $(\\frac{N+1}{2})^{th}$ element. If $N$ is even, then median is the mean of $(\\frac{N}{2})^{th}$ and $(\\frac{N}{2}+1)^{th}$ elements"
      ]
    },
    {
      "cell_type": "code",
      "metadata": {
        "id": "TNWp2uyVjkGi"
      },
      "source": [
        "# List of product prices\n",
        "\n",
        "prod_price_list = [400, 250, 800, 550, 600, 820, 720, 15000, 360,250]"
      ],
      "execution_count": 15,
      "outputs": []
    },
    {
      "cell_type": "code",
      "metadata": {
        "id": "KwenpH43jkGm",
        "outputId": "eaafeef1-4845-4cc7-fbd2-1de23e596c5f",
        "colab": {
          "base_uri": "https://localhost:8080/"
        }
      },
      "source": [
        "# Calculate the mean of the product prices. Use list functions. Also print the mean_price\n",
        "mean_price = sum(prod_price_list)/len(prod_price_list)\n",
        "print(mean_price)"
      ],
      "execution_count": 16,
      "outputs": [
        {
          "output_type": "stream",
          "text": [
            "1975.0\n"
          ],
          "name": "stdout"
        }
      ]
    },
    {
      "cell_type": "markdown",
      "metadata": {
        "id": "gTojysiqjkGr"
      },
      "source": [
        "### Calculate the median price"
      ]
    },
    {
      "cell_type": "code",
      "metadata": {
        "id": "5SBpWBGEjkGr",
        "outputId": "b88d2d07-abd8-4744-8b53-0dc1b06b8318",
        "colab": {
          "base_uri": "https://localhost:8080/"
        }
      },
      "source": [
        "# Step 1 - Obtain the sorted list. Print the sorted_prices\n",
        "sorted_prices = sorted(prod_price_list)\n",
        "print(sorted_prices)"
      ],
      "execution_count": 17,
      "outputs": [
        {
          "output_type": "stream",
          "text": [
            "[250, 250, 360, 400, 550, 600, 720, 800, 820, 15000]\n"
          ],
          "name": "stdout"
        }
      ]
    },
    {
      "cell_type": "code",
      "metadata": {
        "id": "29eoJETXjkGu",
        "outputId": "c8e5ecc7-8fb2-4506-e073-39a3daf1aeed",
        "colab": {
          "base_uri": "https://localhost:8080/"
        }
      },
      "source": [
        "# Check if the number of elements in the list is even or odd\n",
        "x = len(sorted_prices)\n",
        "if x % 2 == 0:\n",
        "  print(\"The list is even with length {}\".format(x))"
      ],
      "execution_count": 23,
      "outputs": [
        {
          "output_type": "stream",
          "text": [
            "The list is even with length 10\n"
          ],
          "name": "stdout"
        }
      ]
    },
    {
      "cell_type": "code",
      "metadata": {
        "id": "RiafM7R_jkGy",
        "outputId": "3b5a2f09-12b1-4f3a-b51c-fc94324052ad",
        "colab": {
          "base_uri": "https://localhost:8080/"
        }
      },
      "source": [
        "# Use the corresponding formula to calculate the median and print the median\n",
        "ind_val_1 = int(x/2)\n",
        "ind_val_2 = int(x/2 + 1)\n",
        "val_1 = sorted_prices[ind_val_1-1]\n",
        "val_2 = sorted_prices[ind_val_2-1]\n",
        "median_price = (val_1 + val_2)/2\n",
        "print(median_price)"
      ],
      "execution_count": 44,
      "outputs": [
        {
          "output_type": "stream",
          "text": [
            "575.0\n"
          ],
          "name": "stdout"
        }
      ]
    },
    {
      "cell_type": "code",
      "metadata": {
        "id": "brysk47ojkG0",
        "outputId": "552b7224-c04b-4a8f-e121-3c88446e81a9",
        "colab": {
          "base_uri": "https://localhost:8080/"
        }
      },
      "source": [
        "# Check which is greater, mean or median\n",
        "if mean_price > median_price:\n",
        "  print(\"Mean is Greater\")"
      ],
      "execution_count": 47,
      "outputs": [
        {
          "output_type": "stream",
          "text": [
            "Mean is Greater\n"
          ],
          "name": "stdout"
        }
      ]
    },
    {
      "cell_type": "markdown",
      "metadata": {
        "id": "jB0y0UdbjkG3"
      },
      "source": [
        "### Why do you think that is the case??"
      ]
    },
    {
      "cell_type": "markdown",
      "metadata": {
        "id": "_JguWGM_-_ST"
      },
      "source": [
        "### <u>Write your explanation in this text cell</u>\n",
        "\n",
        "Your explanation :  It's because of the Outliars or the extreme values present in the list. These extreme values can impact the mean or average. "
      ]
    },
    {
      "cell_type": "markdown",
      "metadata": {
        "id": "J3x3tmzTjkG3"
      },
      "source": [
        "## <u> Problem 3 </u>\n",
        "\n",
        "Having a nested list sometimes might be a bit problematic. An individual was asked to collect the names of companies in the technology sector. While creating the list, by mistake the last three companies were subsumed in a list as shown below. You are required to get rid of the nesting"
      ]
    },
    {
      "cell_type": "code",
      "metadata": {
        "id": "6IbY26WqjkG4"
      },
      "source": [
        "# The list of tech companies curated by the individual\n",
        "tech_companies = ['Qualcomm','Google','Apple',['Nvidia','Cisco','Samsung']]\n",
        "\n",
        "# The final list that we want\n",
        "# correct_tech_companies = ['Qualcomm','Google','Apple','Nvidia','Cisco','Samsung']"
      ],
      "execution_count": 61,
      "outputs": []
    },
    {
      "cell_type": "code",
      "metadata": {
        "id": "anVH03bTjkG7",
        "outputId": "576c61af-9d37-4d22-d532-6e7912d2f609",
        "colab": {
          "base_uri": "https://localhost:8080/"
        }
      },
      "source": [
        "# Write your code below\n",
        "extract_2 = tech_companies.pop()\n",
        "print(extract_2)"
      ],
      "execution_count": 62,
      "outputs": [
        {
          "output_type": "stream",
          "text": [
            "['Nvidia', 'Cisco', 'Samsung']\n"
          ],
          "name": "stdout"
        }
      ]
    },
    {
      "cell_type": "code",
      "metadata": {
        "id": "BsVsotOGjkG_",
        "outputId": "19726e2a-5264-4207-d8db-68bff8163956",
        "colab": {
          "base_uri": "https://localhost:8080/"
        }
      },
      "source": [
        "# Do the same task another way\n",
        "#correct_tech_companies = []\n",
        "for i in extract_2:\n",
        "  tech_companies.append(i)\n",
        "correct_tech_companies = tech_companies\n",
        "print(correct_tech_companies)\n"
      ],
      "execution_count": 63,
      "outputs": [
        {
          "output_type": "stream",
          "text": [
            "['Qualcomm', 'Google', 'Apple', 'Nvidia', 'Cisco', 'Samsung']\n"
          ],
          "name": "stdout"
        }
      ]
    }
  ]
}